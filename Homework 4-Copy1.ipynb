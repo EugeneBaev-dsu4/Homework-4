{
 "cells": [
  {
   "cell_type": "code",
   "execution_count": 1,
   "metadata": {},
   "outputs": [],
   "source": [
    "documents = [\n",
    "    {'type': 'passport', 'number': '2207 876234', 'name': 'Василий Гупкин'},\n",
    "    {'type': 'invoice', 'number': '11-2', 'name': 'Геннадий Покемонов'},\n",
    "    {'type': 'insurance', 'number': '10006', 'name': 'Аристарх Павлов'}\n",
    "]\n",
    " \n",
    "directories = {\n",
    "    '1': ['2207 876234', '11-2'],\n",
    "    '2': ['10006'],\n",
    "    '3': []\n",
    "}"
   ]
  },
  {
   "cell_type": "code",
   "execution_count": 2,
   "metadata": {},
   "outputs": [],
   "source": [
    "# Задание 1\n",
    "# Пользователь по команде “p” может узнать владельца документа по его номеру\n",
    "def find_owner(number):\n",
    "    res = 'Документ не найден в базе'\n",
    "    for i in documents:\n",
    "        if i['number'] == number:\n",
    "            res = 'Владелец документа: ' + i['name']\n",
    "    return(res)"
   ]
  },
  {
   "cell_type": "code",
   "execution_count": 3,
   "metadata": {},
   "outputs": [],
   "source": [
    "# Задание 2\n",
    "# Пользователь по команде “s” может по номеру документа узнать на какой полке он хранится\n",
    " \n",
    "def shelf(number):\n",
    "    res = 'Документ не найден в базе'\n",
    "    for i in directories:\n",
    "        if number in directories[i]:\n",
    "             res = 'Документ хранится на полке:' + i\n",
    "    return res"
   ]
  },
  {
   "cell_type": "code",
   "execution_count": 4,
   "metadata": {},
   "outputs": [],
   "source": [
    "# Задание 3 \n",
    "# Пользователь по команде “l” может увидеть полную информацию по всем документам\n",
    " \n",
    "def info(documents, directories):\n",
    "    for shelf, cont in directories.items():\n",
    "        for doc in documents:\n",
    "            if doc['number'] in cont:\n",
    "                print (f\"№: {doc['number']}, тип: {doc['type']}, владелец: {doc['name']}, полка хранения: {shelf}\")"
   ]
  },
  {
   "cell_type": "code",
   "execution_count": 5,
   "metadata": {},
   "outputs": [],
   "source": [
    "# задание 4\n",
    "# Пользователь по команде “ads” может добавить новый документ в данные\n",
    " \n",
    "def add_shelf(number):\n",
    "    res = 'Ничего не введено'\n",
    "    if number in directories:\n",
    "        res = f'Такая полка уже существует. Текущий перечень полок: {list(directories.keys())}'\n",
    "    else:\n",
    "        directories[number] = []\n",
    "        res = f'Полка добавлена. Текущий перечень полок: {list(directories.keys())}'\n",
    "    return res"
   ]
  },
  {
   "cell_type": "code",
   "execution_count": 6,
   "metadata": {},
   "outputs": [],
   "source": [
    "# задание 5 Пользователь по команде “ds” может удалить существующую полку из данных (только если она пустая)\n",
    "def rem_shelf(number):\n",
    "    res = f'Такой полки не существует. Текущий перечень полок: {list(directories.keys())}'\n",
    "    if number in directories:\n",
    "        if len(directories[number]) > 0:\n",
    "            res = f'На полке есть документы, удалите их перед удалением полки. Текущий перечень полок:{list(directories.keys())}'\n",
    "        else:\n",
    "            del directories[number]\n",
    "            res = f'Полка удалена. Текущий перечень полок: {list(directories.keys())}'\n",
    "    return res"
   ]
  },
  {
   "cell_type": "code",
   "execution_count": null,
   "metadata": {},
   "outputs": [
    {
     "name": "stdout",
     "output_type": "stream",
     "text": [
      "Введите команду: ads\n",
      "Введите номер полки: 3\n",
      "Такая полка уже существует. Текущий перечень полок: ['1', '2', '3']\n",
      "Введите команду: ds\n",
      "Введите номер полки: 2\n",
      "На полке есть документы, удалите их перед удалением полки. Текущий перечень полок:['1', '2', '3']\n",
      "Введите команду: l\n",
      "№: 2207 876234, тип: passport, владелец: Василий Гупкин, полка хранения: 1\n",
      "№: 11-2, тип: invoice, владелец: Геннадий Покемонов, полка хранения: 1\n",
      "№: 10006, тип: insurance, владелец: Аристарх Павлов, полка хранения: 2\n",
      "None\n",
      "Введите команду: p\n",
      "Введите номер документа: 10006\n",
      "Владелец документа: Аристарх Павлов\n",
      "Введите команду: p\n",
      "Введите номер документа: 11-2\n",
      "Владелец документа: Геннадий Покемонов\n",
      "Введите команду: s\n",
      "Введите номер документа: 11-2\n",
      "Документ хранится на полке:1\n"
     ]
    }
   ],
   "source": [
    "def main(documents, directories):\n",
    "    while True:\n",
    "        user_input = input('Введите команду: ')\n",
    "        if user_input == 'p':\n",
    "            number = input(\"Введите номер документа: \")\n",
    "            print(find_owner(number))\n",
    "        elif user_input == 's':\n",
    "            number = input(\"Введите номер документа: \")\n",
    "            print(shelf(number))\n",
    "        elif user_input == 'l':\n",
    "            print(info(documents, directories))\n",
    "        elif user_input == 'ads':\n",
    "            number = input(\"Введите номер полки: \")\n",
    "            print(add_shelf(number))\n",
    "        elif user_input == 'ds':\n",
    "            number = input(\"Введите номер полки: \")\n",
    "            print(rem_shelf(number))\n",
    "        elif user_input == 'q':\n",
    "            break\n",
    "            \n",
    "main(documents, directories)"
   ]
  },
  {
   "cell_type": "code",
   "execution_count": null,
   "metadata": {},
   "outputs": [],
   "source": []
  }
 ],
 "metadata": {
  "kernelspec": {
   "display_name": "Python 3",
   "language": "python",
   "name": "python3"
  },
  "language_info": {
   "codemirror_mode": {
    "name": "ipython",
    "version": 3
   },
   "file_extension": ".py",
   "mimetype": "text/x-python",
   "name": "python",
   "nbconvert_exporter": "python",
   "pygments_lexer": "ipython3",
   "version": "3.7.6"
  }
 },
 "nbformat": 4,
 "nbformat_minor": 4
}
